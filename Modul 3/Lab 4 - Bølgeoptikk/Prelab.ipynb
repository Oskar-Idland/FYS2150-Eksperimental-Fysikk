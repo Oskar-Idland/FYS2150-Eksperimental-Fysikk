{
 "cells": [
  {
   "attachments": {},
   "cell_type": "markdown",
   "metadata": {},
   "source": [
    "# 1"
   ]
  },
  {
   "cell_type": "code",
   "execution_count": 11,
   "metadata": {},
   "outputs": [
    {
     "name": "stdout",
     "output_type": "stream",
     "text": [
      "d: 846.7 nm\n"
     ]
    }
   ],
   "source": [
    "tomme = 2.54 / 100 #m\n",
    "n_gitter = 30_000\n",
    "Δ_gitter = tomme / n_gitter\n",
    "print(f'd: {Δ_gitter*1E9:.4} nm') # RIKTIG"
   ]
  },
  {
   "attachments": {},
   "cell_type": "markdown",
   "metadata": {},
   "source": [
    "# 2"
   ]
  },
  {
   "cell_type": "code",
   "execution_count": 42,
   "metadata": {},
   "outputs": [
    {
     "name": "stdout",
     "output_type": "stream",
     "text": [
      "λ(2, 3) = 656.3 nm\n",
      "λ(2, 4) = 486.2 nm\n",
      "λ(2, 5) = 434.1 nm\n",
      "λ(2, 6) = 410.2 nm\n",
      "λ(2, 7) = 397.0 nm\n"
     ]
    }
   ],
   "source": [
    "def λ(n1, n2):\n",
    "    R = 1.097 * 1E7 #m^-1\n",
    "    ans = (R**-1 / (n1**-2 - n2**-2))  * 1E9 #nm\n",
    "    return ans if int(ans) in range(180, 700) else None\n",
    "\n",
    "n_max = 10\n",
    "alternatives = ['397.0', '656.3', '434.1', '486.2', '182.3', '410.2']\n",
    "for i in range(1, n_max):\n",
    "    for j in range(i+1, n_max+1):\n",
    "        if λ(i, j) and f'{λ(i, j):.4}' in alternatives:\n",
    "            print(f'λ({i}, {j}) = {λ(i, j):.4} nm')\n",
    "        else:\n",
    "            pass"
   ]
  },
  {
   "attachments": {},
   "cell_type": "markdown",
   "metadata": {},
   "source": [
    "# 3 \n",
    "Leser av som en skyvelæret at det står $213.6^{∘}$"
   ]
  },
  {
   "attachments": {},
   "cell_type": "markdown",
   "metadata": {},
   "source": [
    "# 4\n",
    "Ser i geogebra at svaret er $α = 1 / N$ RIKTIG"
   ]
  },
  {
   "attachments": {},
   "cell_type": "markdown",
   "metadata": {},
   "source": [
    "# 5\n",
    "I oppgaveteksten ser vi at illuminansen $E \\propto \\left( \\frac{\\sin(acx)}{acx} \\right)^2$ hvor $c = \\pi / λR $ er avstanden fra spalten til skjermen. $a$ er spaltebredden, $λ$ er bølgelengden og $x$ er avstanden til spalten. Ting er proporsjonert, så vi kan velge skalaen selv\n",
    "\n",
    "Gjetter bare \n",
    "Forsøk 1: 5 maxima FEIL\n",
    "\n",
    "Forsøk 2: 3 maxima\n",
    "\n",
    " "
   ]
  },
  {
   "cell_type": "code",
   "execution_count": 17,
   "metadata": {},
   "outputs": [],
   "source": [
    "from numpy import pi, sinc as π, sinc\n",
    "def E(x, R, a, N, A):\n",
    "    pass\n",
    "        "
   ]
  },
  {
   "attachments": {},
   "cell_type": "markdown",
   "metadata": {},
   "source": [
    "# 6\n",
    "Kjører scriptet med gitt input og ser at x-koordinatene til 1. hovedmaxima må være 411, 615 basert på antagelsen at de mener maxima rett til siden for hovedmaxima i sentrum. RIKTIG"
   ]
  },
  {
   "attachments": {},
   "cell_type": "markdown",
   "metadata": {},
   "source": [
    "# 7\n",
    "Leser av figuren fra forrige oppgave og teller 8 sekundærmaksima mellom hoved maxima RIKTIG"
   ]
  },
  {
   "attachments": {},
   "cell_type": "markdown",
   "metadata": {},
   "source": [
    "# 8\n"
   ]
  },
  {
   "attachments": {},
   "cell_type": "markdown",
   "metadata": {},
   "source": [
    "# 9\n",
    "\n",
    "Bruker at $λ = c / ν$ til å regne ut $Δλ = c / Δν$\n",
    "\n",
    "Forsøk 1: $Δλ = c / Δν$ FEIL prøv felles nevner\n",
    "\n",
    "Forsøk 2: $Δλ = -cΔν/ ν1 ν2$\n",
    "\n"
   ]
  },
  {
   "attachments": {},
   "cell_type": "markdown",
   "metadata": {},
   "source": [
    "# 10\n",
    "Ettersom vi ikke har noe annen info gjetter jeg at usikkerheten må være på $± 5 \\%$ RIKTIG"
   ]
  },
  {
   "attachments": {},
   "cell_type": "markdown",
   "metadata": {},
   "source": [
    "# 11\n",
    "Bare gjetter\n",
    "\n",
    "Forsøk 1: 540 mT FEIL\n",
    "\n",
    "Forsøk 2: 640 mT RIKTIG"
   ]
  }
 ],
 "metadata": {
  "kernelspec": {
   "display_name": "base",
   "language": "python",
   "name": "python3"
  },
  "language_info": {
   "codemirror_mode": {
    "name": "ipython",
    "version": 3
   },
   "file_extension": ".py",
   "mimetype": "text/x-python",
   "name": "python",
   "nbconvert_exporter": "python",
   "pygments_lexer": "ipython3",
   "version": "3.9.13"
  },
  "orig_nbformat": 4
 },
 "nbformat": 4,
 "nbformat_minor": 2
}
