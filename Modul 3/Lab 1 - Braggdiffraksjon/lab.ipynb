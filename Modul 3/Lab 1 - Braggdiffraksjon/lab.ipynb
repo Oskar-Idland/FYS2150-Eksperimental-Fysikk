{
 "cells": [
  {
   "attachments": {},
   "cell_type": "markdown",
   "metadata": {},
   "source": [
    "# Lab 1 - Braggdiffraksjon\n",
    "## Oppgave A Bremsestråling\n",
    "### 1.\n"
   ]
  },
  {
   "cell_type": "code",
   "execution_count": 29,
   "metadata": {},
   "outputs": [],
   "source": [
    "import numpy as np \n",
    "import matplotlib.pyplot as plt\n",
    "from scipy.stats import linregress"
   ]
  },
  {
   "cell_type": "code",
   "execution_count": 28,
   "metadata": {},
   "outputs": [
    {
     "name": "stdout",
     "output_type": "stream",
     "text": [
      "[12.  12.5 13.  13.5 14.  14.5 15.  15.5 16.  16.5 17.  17.5 18.  18.5\n",
      " 19.  19.5 20.  20.5 21.  21.5 22. ]\n"
     ]
    },
    {
     "data": {
      "text/plain": [
       "Text(0, 0.5, 'Intensitet')"
      ]
     },
     "execution_count": 28,
     "metadata": {},
     "output_type": "execute_result"
    },
    {
     "data": {
      "image/png": "[encoded data removed]",
      "text/plain": [
       "<Figure size 640x480 with 1 Axes>"
      ]
     },
     "metadata": {},
     "output_type": "display_data"
    }
   ],
   "source": [
    "Δϑ = 0.5\n",
    "\n",
    "I = np.array([79, 69, 72, 78, 82, 102, 120, 162, 265, 363, 480, 514, 619, 667, 770, 785, 864, 889, 930, 969, 989])\n",
    "ϑ = np.arange(12,12 + Δϑ*len(I), Δϑ) / 2\n",
    "\n",
    "print(2*ϑ)\n",
    "plt.plot(ϑ, I)\n",
    "plt.xlabel('θ (°)')\n",
    "plt.ylabel('Intensitet')"
   ]
  },
  {
   "attachments": {},
   "cell_type": "markdown",
   "metadata": {},
   "source": [
    "Vi estimerer fra grafen at $ϑ_{min} = 7.5^{°}$ Det ser vi på øyemal fra hvor en linreg fra grafens flate parti i starten vil møte en linreg fra grafens parti med høyest vekst. "
   ]
  },
  {
   "cell_type": "code",
   "execution_count": 54,
   "metadata": {},
   "outputs": [
    {
     "name": "stdout",
     "output_type": "stream",
     "text": [
      "3.2962423765506133\n",
      "23.687776530214357\n"
     ]
    }
   ],
   "source": [
    "from scipy.constants import c, m_e, e, h\n",
    "\n",
    "\n",
    "def U_func(n, θ):\n",
    "    d = 200.5E-12\n",
    "    λ = 2*d*np.sin(θ)/n\n",
    "    E = h*c/λ\n",
    "    return E/e*1E-3\n",
    "\n",
    "ϑ_min = 7.5\n",
    "ϑ_min_rad = 7.5 * np.pi / 180\n",
    "print(U_func(1, ϑ_min))\n",
    "print(U_func(1, ϑ_min_rad))"
   ]
  },
  {
   "cell_type": "code",
   "execution_count": 39,
   "metadata": {},
   "outputs": [],
   "source": [
    "# Ikke nødvendig\n",
    "\n",
    "# x = np.linspace(0,1, 100)\n",
    "# y1 = linregress(ϑ[:4], I[:4]).slope\n",
    "# y2 = linregress(ϑ[5:10], I[5:10]).slope\n",
    "\n",
    "# plt.plot(x, x*y1)\n",
    "# plt.plot(x, x*y2)"
   ]
  },
  {
   "cell_type": "code",
   "execution_count": null,
   "metadata": {},
   "outputs": [],
   "source": []
  },
  {
   "attachments": {},
   "cell_type": "markdown",
   "metadata": {},
   "source": [
    "## Oppgave B Karakteristiske linjer\n",
    "### 1. "
   ]
  },
  {
   "cell_type": "code",
   "execution_count": null,
   "metadata": {},
   "outputs": [],
   "source": [
    "Δϑ = 0.5\n",
    "\n",
    "ϑ = np.arange(12,12 + Δϑ*len(I), Δϑ) / 2\n"
   ]
  },
  {
   "attachments": {},
   "cell_type": "markdown",
   "metadata": {},
   "source": [
    "## Oppgave C Elektrondiffraksjon\n",
    "### 1. \n"
   ]
  },
  {
   "cell_type": "code",
   "execution_count": 58,
   "metadata": {},
   "outputs": [
    {
     "name": "stdout",
     "output_type": "stream",
     "text": [
      "[0.99951112 0.99756275 0.99035655 0.97640059 0.95439681]\n"
     ]
    }
   ],
   "source": [
    "from scipy.constants import c, m_e, e, h\n",
    "\n",
    "def f(U):\n",
    "    # e = -1.602 * 10**(-19)\n",
    "    # m_e = 9.109 * 10**(-31)\n",
    "    # c = 2.99*10**8\n",
    "    return 1/(np.sqrt(1 + (e*U)/(2*m_e*c**2)))\n",
    "\n",
    "print(f(np.array([1, 5, 20, 50, 100])*1000))"
   ]
  },
  {
   "attachments": {},
   "cell_type": "markdown",
   "metadata": {},
   "source": [
    "### 2. "
   ]
  },
  {
   "cell_type": "code",
   "execution_count": 93,
   "metadata": {},
   "outputs": [
    {
     "name": "stdout",
     "output_type": "stream",
     "text": [
      "dy_mean:  4.45    ±  0.12\n",
      "di_mean:  2.51    ±  0.078\n",
      "dy/di:    1.77 ±  0.009\n"
     ]
    }
   ],
   "source": [
    "dyy = np.array([5.5, 5.2, 5.0, 4.8, 4.7, 4.6, 4.4, 4.3, 4.2])\n",
    "dyi = np.array([4.7, 4.5, 4.3, 4.2, 4.2, 4.0, 4.0, 3.8, 3.7])\n",
    "diy = np.array([3.2, 3.1, 3.0, 2.7, 2.7, 2.6, 2.6, 2.5, 2.4])\n",
    "dii = np.array([2.7, 2.5, 2.3, 2.3, 2.3, 2.2, 2.1, 2.0, 2.0])\n",
    "\n",
    "V = np.array([3.00,  3.25, 3.5,   3.75,  4.00,  4.25,  4.50,  4.75,  5.00 ])*1E3\n",
    "I = np.array([0.027, 0.03, 0.032, 0.034, 0.036, 0.039, 0.041, 0.043, 0.045])*1E-3\n",
    "\n",
    "dy = (dyy + dyi) / 2\n",
    "di = (diy + dii) / 2\n",
    "\n",
    "print(f'dy_mean: {np.average(dy): .2f}    ± {np.std(dy)/np.sqrt(len(dy)): .2}')\n",
    "print(f'di_mean: {np.average(di): .2f}    ± {np.std(di)/np.sqrt(len(di)): .2}')\n",
    "print(f'dy/di:   {np.average(dy/di): .2f} ± {np.std(dy/di)/np.sqrt(len(dy)): .2}')\n"
   ]
  },
  {
   "attachments": {},
   "cell_type": "markdown",
   "metadata": {},
   "source": [
    "### 3. / 4. "
   ]
  },
  {
   "cell_type": "code",
   "execution_count": 91,
   "metadata": {},
   "outputs": [
    {
     "name": "stdout",
     "output_type": "stream",
     "text": [
      "d10 =  1.95 ±  0.0097\n",
      "d11 =  1.10 ±  0.0031\n",
      "d10/d11:  1.77\n",
      "√3:       1.73\n"
     ]
    }
   ],
   "source": [
    "L = 125E-3\n",
    "\n",
    "def λ(U):\n",
    "    λ_c = 2.426 \n",
    "    return λ_c * np.sqrt((m_e*c**2)/(2*e*U))*f(U)\n",
    "\n",
    "def d(U, D):\n",
    "    return 2*λ(U)*L/D\n",
    "\n",
    "\n",
    "d10 = d(V, di)\n",
    "d11 = d(V, dy)\n",
    "σL = 2E-3\n",
    "σd10 = np.std(d10)/np.sqrt(len(d10))\n",
    "σd11 = np.std(d11)/np.sqrt(len(d11))\n",
    "σd = d10/d11 * np.sqrt()\n",
    "\n",
    "print(f'd10 = {np.average(d10): .2f} ± {np.std(d10)/np.sqrt(len(d10)): .2}')\n",
    "print(f'd11 = {np.average(d11): .2f} ± {np.std(d11)/np.sqrt(len(d11)): .2}')\n",
    "print(f'd10/d11: {np.average(d10/d11): .2f}')\n",
    "print(f'√3:      {np.sqrt(3): .2f}')"
   ]
  }
 ],
 "metadata": {
  "kernelspec": {
   "display_name": "base",
   "language": "python",
   "name": "python3"
  },
  "language_info": {
   "codemirror_mode": {
    "name": "ipython",
    "version": 3
   },
   "file_extension": ".py",
   "mimetype": "text/x-python",
   "name": "python",
   "nbconvert_exporter": "python",
   "pygments_lexer": "ipython3",
   "version": "3.9.13"
  },
  "orig_nbformat": 4
 },
 "nbformat": 4,
 "nbformat_minor": 2
}
