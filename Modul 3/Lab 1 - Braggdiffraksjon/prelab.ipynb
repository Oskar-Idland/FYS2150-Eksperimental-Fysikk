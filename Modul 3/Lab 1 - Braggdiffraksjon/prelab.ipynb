{
 "cells": [
  {
   "cell_type": "code",
   "execution_count": 1,
   "metadata": {},
   "outputs": [],
   "source": [
    "import numpy as np\n",
    "import pandas as pd \n",
    "import matplotlib.pyplot as plt\n",
    "from scipy.constants import c, m_e, e, h\n",
    "λ_c = 2.426"
   ]
  },
  {
   "cell_type": "code",
   "execution_count": 2,
   "metadata": {},
   "outputs": [
    {
     "data": {
      "text/plain": [
       "-0.025118051722056393"
      ]
     },
     "execution_count": 2,
     "metadata": {},
     "output_type": "execute_result"
    }
   ],
   "source": [
    "λ = 2*np.sin([130, 124, 133, 131, 128, 132, 138, 192, 244, 301, 348, 403, 462, 508]) / np.arange(12,26,1)\n",
    "np.average(λ)\n"
   ]
  },
  {
   "cell_type": "code",
   "execution_count": 13,
   "metadata": {},
   "outputs": [
    {
     "name": "stdout",
     "output_type": "stream",
     "text": [
      "[0.02863512 0.02902995 0.02845512 0.02880771 0.02883327 0.02840927\n",
      " 0.02599635 0.02649736 0.02476588 0.0244265  0.02509315]\n"
     ]
    }
   ],
   "source": [
    "data = pd.read_csv('diameter.dat')\n",
    "U, D = [], []\n",
    "\n",
    "with open('diameter.dat') as f:\n",
    "    for line in f:\n",
    "        U.append(float(line.split()[0]))\n",
    "        D.append(float(line.split()[1]))\n",
    "\n",
    "U, D = np.array(U), np.array(D)\n",
    "print(D)"
   ]
  },
  {
   "cell_type": "code",
   "execution_count": 15,
   "metadata": {},
   "outputs": [
    {
     "name": "stdout",
     "output_type": "stream",
     "text": [
      "552.1276419018801 5.309244052953312\n",
      "0.9961089267108474\n"
     ]
    }
   ],
   "source": [
    "def f(U):\n",
    "    # e = -1.602 * 10**(-19)\n",
    "    # m_e = 9.109 * 10**(-31)\n",
    "    # c = 2.99*10**8\n",
    "    return 1/(np.sqrt(1 + (e*U)/(2*m_e*c**2)))\n",
    "\n",
    "def λ(U):\n",
    "    return λ_c * np.sqrt((m_e*c**2)/(2*e*U))*f(U)\n",
    "\n",
    "def U_func(n, θ):\n",
    "    d = 200.5E-12\n",
    "    λ = 2*d*np.sin(θ)/n\n",
    "    E = h*c/λ\n",
    "    return E/e*1E-3\n",
    "    \n",
    "\n",
    "print(sum(λ(U)/D)/11, np.std(λ(U)/D)/np.sqrt(11))\n",
    "print(f'{f(8000)}')"
   ]
  }
 ],
 "metadata": {
  "kernelspec": {
   "display_name": "base",
   "language": "python",
   "name": "python3"
  },
  "language_info": {
   "codemirror_mode": {
    "name": "ipython",
    "version": 3
   },
   "file_extension": ".py",
   "mimetype": "text/x-python",
   "name": "python",
   "nbconvert_exporter": "python",
   "pygments_lexer": "ipython3",
   "version": "3.9.13"
  },
  "orig_nbformat": 4
 },
 "nbformat": 4,
 "nbformat_minor": 2
}
